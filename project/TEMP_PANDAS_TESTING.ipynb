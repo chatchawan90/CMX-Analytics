{
 "cells": [
  {
   "cell_type": "code",
   "execution_count": 3,
   "metadata": {},
   "outputs": [
    {
     "name": "stdout",
     "output_type": "stream",
     "text": [
      "Note: you may need to restart the kernel to use updated packages.Requirement already satisfied: pandas in c:\\python312\\lib\\site-packages (2.2.3)\n",
      "Requirement already satisfied: pyodbc in c:\\python312\\lib\\site-packages (5.2.0)\n",
      "Requirement already satisfied: numpy>=1.26.0 in c:\\python312\\lib\\site-packages (from pandas) (2.1.3)\n",
      "Requirement already satisfied: python-dateutil>=2.8.2 in c:\\users\\tlakk\\appdata\\roaming\\python\\python312\\site-packages (from pandas) (2.9.0.post0)\n",
      "Requirement already satisfied: pytz>=2020.1 in c:\\python312\\lib\\site-packages (from pandas) (2024.2)\n",
      "Requirement already satisfied: tzdata>=2022.7 in c:\\python312\\lib\\site-packages (from pandas) (2024.2)\n",
      "Requirement already satisfied: six>=1.5 in c:\\users\\tlakk\\appdata\\roaming\\python\\python312\\site-packages (from python-dateutil>=2.8.2->pandas) (1.16.0)\n",
      "\n"
     ]
    },
    {
     "name": "stderr",
     "output_type": "stream",
     "text": [
      "\n",
      "[notice] A new release of pip is available: 24.0 -> 24.3.1\n",
      "[notice] To update, run: python.exe -m pip install --upgrade pip\n"
     ]
    },
    {
     "name": "stdout",
     "output_type": "stream",
     "text": [
      "Collecting openpyxl\n",
      "  Downloading openpyxl-3.1.5-py2.py3-none-any.whl.metadata (2.5 kB)\n",
      "Collecting et-xmlfile (from openpyxl)\n",
      "  Downloading et_xmlfile-2.0.0-py3-none-any.whl.metadata (2.7 kB)\n",
      "Downloading openpyxl-3.1.5-py2.py3-none-any.whl (250 kB)\n",
      "   ---------------------------------------- 0.0/250.9 kB ? eta -:--:--\n",
      "   - -------------------------------------- 10.2/250.9 kB ? eta -:--:--\n",
      "   ------------------- -------------------- 122.9/250.9 kB 1.8 MB/s eta 0:00:01\n",
      "   ---------------------------------------- 250.9/250.9 kB 2.6 MB/s eta 0:00:00\n",
      "Downloading et_xmlfile-2.0.0-py3-none-any.whl (18 kB)\n",
      "Installing collected packages: et-xmlfile, openpyxl\n",
      "Successfully installed et-xmlfile-2.0.0 openpyxl-3.1.5\n",
      "Note: you may need to restart the kernel to use updated packages.\n"
     ]
    },
    {
     "name": "stderr",
     "output_type": "stream",
     "text": [
      "\n",
      "[notice] A new release of pip is available: 24.0 -> 24.3.1\n",
      "[notice] To update, run: python.exe -m pip install --upgrade pip\n"
     ]
    }
   ],
   "source": [
    "%pip install pandas pyodbc\n",
    "%pip install openpyxl"
   ]
  },
  {
   "cell_type": "code",
   "execution_count": 19,
   "metadata": {},
   "outputs": [
    {
     "name": "stdout",
     "output_type": "stream",
     "text": [
      "Total Products: 4238\n",
      "4       144201.0001\n",
      "5       144246.0001\n",
      "6       145497.0001\n",
      "7       146492.0010\n",
      "8       146539.0200\n",
      "           ...     \n",
      "4209    146335.0006\n",
      "4225    144253.0050\n",
      "4226    146405.0006\n",
      "4227    146476.0006\n",
      "4228    166904.0012\n",
      "Name: goodcode, Length: 1009, dtype: object\n"
     ]
    }
   ],
   "source": [
    "import pandas as pd \n",
    "import pyodbc\n",
    "bioM2025 = pd.read_excel(\"1102024_NewBioM_2025 SKU LIST.xlsx\", sheet_name=\"contour-export-08-26-2024_LA2\")\n",
    "\n",
    "print(f\"Total Products: {len(bioM2025)}\") \n",
    "\n",
    "rename = {\"GLOBAL_PRODUCT_ID\": \"goodcode\" , \"GLOBAL_PRODUCT_DESC\": \"description\",\n",
    "        \"HIERARCHY_L3_DESC\": \"category\", \"HIERARCHY_L4_DESC\": \"Sub Cat\", \"HIERARCHY_L5_DESC\": \"SBU\"}\n",
    "\n",
    "bioM2025 = bioM2025.rename(columns=rename)\n",
    "bioM2025['goodcode'] = bioM2025['goodcode'].astype(str)\n",
    "all_goodcode = bioM2025['goodcode'].tolist() \n",
    "\n",
    "\n",
    "condition = (bioM2025['goodcode'].str.len() == 10) & (bioM2025['goodcode'].str.isdigit())\n",
    "bioM2025.loc[condition,'goodcode'] = bioM2025[condition]['goodcode'].apply(lambda x: x[:-4]+\".\"+x[-4:])\n",
    "\n",
    "print(bioM2025.loc[condition,'goodcode'])"
   ]
  },
  {
   "cell_type": "code",
   "execution_count": null,
   "metadata": {},
   "outputs": [
    {
     "name": "stderr",
     "output_type": "stream",
     "text": [
      "C:\\Users\\tlakk\\AppData\\Local\\Temp\\ipykernel_5388\\2363116600.py:2: SettingWithCopyWarning: \n",
      "A value is trying to be set on a copy of a slice from a DataFrame.\n",
      "Try using .loc[row_indexer,col_indexer] = value instead\n",
      "\n",
      "See the caveats in the documentation: https://pandas.pydata.org/pandas-docs/stable/user_guide/indexing.html#returning-a-view-versus-a-copy\n",
      "  bioM2025[condition]['goodcode'] = bioM2025[condition]['goodcode'].apply(lambda x: x[:-4]+\".\"+x[-4:])\n"
     ]
    }
   ],
   "source": [
    "\n"
   ]
  },
  {
   "cell_type": "code",
   "execution_count": 11,
   "metadata": {},
   "outputs": [
    {
     "name": "stdout",
     "output_type": "stream",
     "text": [
      "0       False\n",
      "1       False\n",
      "2       False\n",
      "3       False\n",
      "4        True\n",
      "        ...  \n",
      "4233    False\n",
      "4234    False\n",
      "4235    False\n",
      "4236    False\n",
      "4237    False\n",
      "Name: goodcode, Length: 4238, dtype: bool\n"
     ]
    }
   ],
   "source": [
    "print(condition)"
   ]
  },
  {
   "cell_type": "code",
   "execution_count": null,
   "metadata": {},
   "outputs": [],
   "source": []
  }
 ],
 "metadata": {
  "kernelspec": {
   "display_name": "Python 3",
   "language": "python",
   "name": "python3"
  },
  "language_info": {
   "codemirror_mode": {
    "name": "ipython",
    "version": 3
   },
   "file_extension": ".py",
   "mimetype": "text/x-python",
   "name": "python",
   "nbconvert_exporter": "python",
   "pygments_lexer": "ipython3",
   "version": "3.12.2"
  }
 },
 "nbformat": 4,
 "nbformat_minor": 2
}
